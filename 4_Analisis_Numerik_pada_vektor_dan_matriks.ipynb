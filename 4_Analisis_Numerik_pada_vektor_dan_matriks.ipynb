{
  "nbformat": 4,
  "nbformat_minor": 0,
  "metadata": {
    "colab": {
      "provenance": []
    },
    "kernelspec": {
      "name": "python3",
      "display_name": "Python 3"
    },
    "language_info": {
      "name": "python"
    }
  },
  "cells": [
    {
      "cell_type": "markdown",
      "source": [
        "1. Tentukan determinan matriks berikut:\n",
        "\n",
        "$$\\displaystyle A = \\left( \\begin{array}{cc}\n",
        "1 & 2 \\\\\n",
        "3 & 4\n",
        "\\end{array}\n",
        "\\right)\n",
        "$$"
      ],
      "metadata": {
        "id": "6AcunDnHgCAe"
      }
    },
    {
      "cell_type": "code",
      "execution_count": 4,
      "metadata": {
        "id": "NTWXnyodWHPg",
        "colab": {
          "base_uri": "https://localhost:8080/"
        },
        "outputId": "133e80ec-8215-4fc7-a2af-7ee5e0e1b6c1"
      },
      "outputs": [
        {
          "output_type": "stream",
          "name": "stdout",
          "text": [
            "-2.0000000000000004\n"
          ]
        }
      ],
      "source": [
        "import numpy as np\n",
        "\n",
        "# Membuat matriks 2x2\n",
        "M = np.array([[1, 2], [3, 4]])\n",
        "\n",
        "# Menghitung determinan matriks\n",
        "determinant = np.linalg.det(M)\n",
        "\n",
        "print(determinant)"
      ]
    },
    {
      "cell_type": "markdown",
      "source": [
        "2. Tentukan invers Matriks Berikut:\n",
        "\n",
        "$$\\displaystyle B = \\left( \\begin{array}{cc}\n",
        "10 & -22 \\\\\n",
        "3 & 45\n",
        "\\end{array}\n",
        "\\right)\n",
        "$$"
      ],
      "metadata": {
        "id": "xDhCpt91gRsv"
      }
    },
    {
      "cell_type": "code",
      "source": [
        "import numpy as np\n",
        "\n",
        "# Membuat matriks 2x2\n",
        "M = np.array([[10, -22], [3, 45]])\n",
        "\n",
        "# Menghitung invers matriks\n",
        "inverse_of_M = np.linalg.inv(M)\n",
        "\n",
        "print(inverse_of_M)"
      ],
      "metadata": {
        "colab": {
          "base_uri": "https://localhost:8080/"
        },
        "id": "oKt8OEu_fwQa",
        "outputId": "4e5f4bb1-438e-4dca-9118-aea7b4d61727"
      },
      "execution_count": 5,
      "outputs": [
        {
          "output_type": "stream",
          "name": "stdout",
          "text": [
            "[[ 0.0872093   0.04263566]\n",
            " [-0.00581395  0.01937984]]\n"
          ]
        }
      ]
    },
    {
      "cell_type": "markdown",
      "source": [
        "3. Tentukan apakah matriks berikut berkondisi buruk:\n",
        "$$\\displaystyle C = \\left( \\begin{array}{cc}\n",
        "1 & 10^{-10} \\\\\n",
        "10^{-10} & 1\n",
        "\\end{array}\n",
        "\\right)\n",
        "$$"
      ],
      "metadata": {
        "id": "NTmhgEq9gAu_"
      }
    },
    {
      "cell_type": "code",
      "source": [
        "from numpy.linalg import \\\n",
        "             cond, matrix_rank\n",
        "\n",
        "A = np.array([[1,10^-10],\n",
        "              [10^-10,1]])\n",
        "\n",
        "print('Condition number:\\n', cond(A))"
      ],
      "metadata": {
        "colab": {
          "base_uri": "https://localhost:8080/"
        },
        "id": "cl_7gPawg7UQ",
        "outputId": "fd273ba5-6b47-4e92-a4c8-f08a3faef83f"
      },
      "execution_count": 9,
      "outputs": [
        {
          "output_type": "stream",
          "name": "stdout",
          "text": [
            "Condition number:\n",
            " 1.6666666666666667\n"
          ]
        }
      ]
    },
    {
      "cell_type": "markdown",
      "source": [
        "Matriks yang hampir singular (yaitu, determinannya mendekati 0) disebut berkondisi buruk. Namun hasil perhitungan condition number pada soal matriks tersebut adalah mendekati 1 maka matriks terdefinisi dengan baik secara numerik."
      ],
      "metadata": {
        "id": "_Iyxkq0uhbv4"
      }
    },
    {
      "cell_type": "markdown",
      "source": [
        "4. Tentukan apakah sistem persamaan linier berikut memiliki solusi. Jika ada, bagaimana solusinya?\n",
        "\n",
        "$$\\displaystyle A = \\left( \\begin{array}{cc}\n",
        "1 & 2 \\\\\n",
        "3 & 4\n",
        "\\end{array}\n",
        "\\right) $$\n",
        "\n",
        "\n",
        "$$\\displaystyle\n",
        "b =  \\left( \\begin{array}{cc}\n",
        "5 & 6\n",
        "\\end{array}\n",
        "\\right) \\\\\n",
        "$$"
      ],
      "metadata": {
        "id": "ceqWBNzmiMln"
      }
    },
    {
      "cell_type": "code",
      "source": [
        "import numpy as np\n",
        "\n",
        "# Koefisien matriks dari sistem persamaan linear\n",
        "coefficients = np.array([[1 , 2], [3 , 4]])\n",
        "\n",
        "# Vektor hasil dari sistem persamaan linear\n",
        "constants = np.array([5 , 6])\n",
        "\n",
        "# Mencari solusi menggunakan np.linalg.solve untuk mencari solusi sistem persamaan linear\n",
        "solution = np.linalg.solve(coefficients, constants)\n",
        "\n",
        "print(\"Solusi dari sistem persamaan linear:\")\n",
        "print(solution)\n"
      ],
      "metadata": {
        "colab": {
          "base_uri": "https://localhost:8080/"
        },
        "id": "l33lv9KoiLWF",
        "outputId": "f2d6601a-36b1-455c-c3ec-de70ce8ac9a8"
      },
      "execution_count": 10,
      "outputs": [
        {
          "output_type": "stream",
          "name": "stdout",
          "text": [
            "Solusi dari sistem persamaan linear:\n",
            "[-4.   4.5]\n"
          ]
        }
      ]
    },
    {
      "cell_type": "markdown",
      "source": [
        "5. Tentukan dimensi ruang nol matriks berikut:\n",
        "\n",
        "\n",
        "$$\\displaystyle\n",
        "C =\n",
        "\\left(\n",
        "\\begin{array}{ccc}\n",
        "1 & 2 & 3 \\\\\n",
        "4 & 5 & 6 \\\\\n",
        "7 & 8 & 9\n",
        "\\end{array}\n",
        "\\right)\n",
        "$$"
      ],
      "metadata": {
        "id": "efgEf_6si3D8"
      }
    },
    {
      "cell_type": "code",
      "source": [
        "import numpy as np\n",
        "\n",
        "# Definisikan matriks\n",
        "matrix = np.array([\n",
        "    [1, 2, 3],\n",
        "    [4, 5, 6],\n",
        "    [7, 8, 9]\n",
        "])\n",
        "\n",
        "# Gunakan np.linalg untuk menghitung singular value decomposition (SVD)\n",
        "U, S, V = np.linalg.svd(matrix)\n",
        "\n",
        "# Hitung jumlah nilai singular yang mendekati nol\n",
        "nullity = np.sum(S < 1e-10)  # Ambil nilai yang sangat kecil sebagai threshold\n",
        "\n",
        "# Dimensi ruang nol adalah jumlah kolom dikurangi rank\n",
        "dimension_null_space = matrix.shape[1] - np.linalg.matrix_rank(matrix)\n",
        "\n",
        "print(\"Dimensi ruang nol (nullity):\", nullity)\n",
        "print(\"Dimensi ruang nol (alternatif):\", dimension_null_space)\n"
      ],
      "metadata": {
        "colab": {
          "base_uri": "https://localhost:8080/"
        },
        "id": "9RT70tfei042",
        "outputId": "8a718e54-bd9d-464c-bcba-8cb0840168bc"
      },
      "execution_count": 11,
      "outputs": [
        {
          "output_type": "stream",
          "name": "stdout",
          "text": [
            "Dimensi ruang nol (nullity): 1\n",
            "Dimensi ruang nol (alternatif): 1\n"
          ]
        }
      ]
    }
  ]
}